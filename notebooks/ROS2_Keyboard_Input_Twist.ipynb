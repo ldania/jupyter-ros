{
 "cells": [
  {
   "cell_type": "markdown",
   "metadata": {},
   "source": [
    "# ROS2: Keyboard Inputs\n",
    "---\n",
    "\n",
    "### Requirements\n",
    "- `ros-humble-rclpy`\n"
   ]
  },
  {
   "cell_type": "code",
   "execution_count": 10,
   "metadata": {},
   "outputs": [],
   "source": [
    "import rclpy as rp\n",
    "import jupyros as jr2\n",
    "from std_msgs.msg import String"
   ]
  },
  {
   "cell_type": "code",
   "execution_count": 11,
   "metadata": {},
   "outputs": [
    {
     "name": "stdout",
     "output_type": "stream",
     "text": [
      "Rclpy already initiated\n"
     ]
    }
   ],
   "source": [
    "# Initialize ROS communications for a given context\n",
    "if rp.ok():\n",
    "    print(\"Rclpy already initiated\")\n",
    "else:\n",
    "    rp.init()"
   ]
  },
  {
   "cell_type": "code",
   "execution_count": 12,
   "metadata": {},
   "outputs": [
    {
     "name": "stderr",
     "output_type": "stream",
     "text": [
      "[WARN] [1665755724.037082659] [rcl.logging_rosout]: Publisher already registered for provided node name. If this is due to multiple nodes with the same name then all logs for that logger name will go out over the existing publisher. As soon as any node with that name is destructed it will unregister the publisher, preventing any further logs for that name from being published on the rosout topic.\n"
     ]
    }
   ],
   "source": [
    "key_node = rp.create_node(\"key_node\")"
   ]
  },
  {
   "cell_type": "code",
   "execution_count": 13,
   "metadata": {},
   "outputs": [
    {
     "name": "stderr",
     "output_type": "stream",
     "text": [
      "[WARN] [1665755724.196682970] [rcl.logging_rosout]: Publisher already registered for provided node name. If this is due to multiple nodes with the same name then all logs for that logger name will go out over the existing publisher. As soon as any node with that name is destructed it will unregister the publisher, preventing any further logs for that name from being published on the rosout topic.\n"
     ]
    }
   ],
   "source": [
    "test_node = rp.create_node(\"test_node\")\n",
    "pub = node.create_publisher(geometry_msgs.msg.Twist, 'cmd_vel', 10)"
   ]
  },
  {
   "cell_type": "markdown",
   "metadata": {},
   "source": [
    "### Keyboard Input Widget"
   ]
  },
  {
   "cell_type": "code",
   "execution_count": 14,
   "metadata": {},
   "outputs": [
    {
     "data": {
      "application/vnd.jupyter.widget-view+json": {
       "model_id": "fe54ca9111ca4d62ad1444d6900769c9",
       "version_major": 2,
       "version_minor": 0
      },
      "text/plain": [
       "Canvas()"
      ]
     },
     "metadata": {},
     "output_type": "display_data"
    },
    {
     "data": {
      "application/vnd.jupyter.widget-view+json": {
       "model_id": "4fa031c4a202446eb063528f76ffd35b",
       "version_major": 2,
       "version_minor": 0
      },
      "text/plain": [
       "Output()"
      ]
     },
     "metadata": {},
     "output_type": "display_data"
    }
   ],
   "source": [
    "key_send = jr2.KeyInput(key_node, String, '/keyboard_stream')\n",
    "key_send.display_inputs()"
   ]
  },
  {
   "cell_type": "code",
   "execution_count": 15,
   "metadata": {},
   "outputs": [],
   "source": [
    "#key_send.set_height(50)\n",
    "#key_send.set_width(200)\n",
    "#key_send.set_color(\"black\")"
   ]
  },
  {
   "cell_type": "code",
   "execution_count": 16,
   "metadata": {},
   "outputs": [],
   "source": [
    "def cb(msg):\n",
    "\n",
    "    moveBindings = {\n",
    "        'i': (1, 0, 0, 0),\n",
    "        'o': (1, 0, 0, -1),\n",
    "        'j': (0, 0, 0, 1),\n",
    "        'l': (0, 0, 0, -1),\n",
    "        'u': (1, 0, 0, 1),\n",
    "        ',': (-1, 0, 0, 0),\n",
    "        '.': (-1, 0, 0, 1),\n",
    "        'm': (-1, 0, 0, -1),\n",
    "        'O': (1, -1, 0, 0),\n",
    "        'I': (1, 0, 0, 0),\n",
    "        'J': (0, 1, 0, 0),\n",
    "        'L': (0, -1, 0, 0),\n",
    "        'U': (1, 1, 0, 0),\n",
    "        '<': (-1, 0, 0, 0),\n",
    "        '>': (-1, -1, 0, 0),\n",
    "        'M': (-1, 1, 0, 0),\n",
    "        't': (0, 0, 1, 0),\n",
    "        'b': (0, 0, -1, 0),\n",
    "    }\n",
    "\n",
    "    speedBindings = {\n",
    "        'q': (1.1, 1.1),\n",
    "        'z': (.9, .9),\n",
    "        'w': (1.1, 1),\n",
    "        'x': (.9, 1),\n",
    "        'e': (1, 1.1),\n",
    "        'c': (1, .9),\n",
    "    }\n",
    "\n",
    "\n",
    "    def vels(speed, turn):\n",
    "        return 'currently:\\tspeed %s\\tturn %s ' % (speed, turn)\n",
    "\n",
    "    rclpy.init()\n",
    "\n",
    "    node = rclpy.create_node('teleop_twist_keyboard')\n",
    "\n",
    "\n",
    "    speed = 0.5\n",
    "    turn = 1.0\n",
    "    x = 0.0\n",
    "    y = 0.0\n",
    "    z = 0.0\n",
    "    th = 0.0\n",
    "    status = 0.0\n",
    "\n",
    "    try:\n",
    "\n",
    "        print(vels(speed, turn))\n",
    "\n",
    "        key = msg.data\n",
    "        if key in moveBindings.keys():\n",
    "            x = moveBindings[key][0]\n",
    "            y = moveBindings[key][1]\n",
    "            z = moveBindings[key][2]\n",
    "            th = moveBindings[key][3]\n",
    "        elif key in speedBindings.keys():\n",
    "            speed = speed * speedBindings[key][0]\n",
    "            turn = turn * speedBindings[key][1]\n",
    "\n",
    "            print(vels(speed, turn))\n",
    "            if (status == 14):\n",
    "                print(msg)\n",
    "            status = (status + 1) % 15\n",
    "        else:\n",
    "            x = 0.0\n",
    "            y = 0.0\n",
    "            z = 0.0\n",
    "            th = 0.0\n",
    "\n",
    "        twist = geometry_msgs.msg.Twist()\n",
    "        twist.linear.x = x * speed\n",
    "        twist.linear.y = y * speed\n",
    "        twist.linear.z = z * speed\n",
    "        twist.angular.x = 0.0\n",
    "        twist.angular.y = 0.0\n",
    "        twist.angular.z = th * turn\n",
    "        pub.publish(twist)\n",
    "\n",
    "    except Exception as e:\n",
    "        print(e)\n",
    "\n",
    "    finally:\n",
    "        twist = geometry_msgs.msg.Twist()\n",
    "        twist.linear.x = 0.0\n",
    "        twist.linear.y = 0.0\n",
    "        twist.linear.z = 0.0\n",
    "        twist.angular.x = 0.0\n",
    "        twist.angular.y = 0.0\n",
    "        twist.angular.z = 0.0\n",
    "        pub.publish(twist)\n",
    "\n",
    "\n"
   ]
  },
  {
   "cell_type": "code",
   "execution_count": 17,
   "metadata": {},
   "outputs": [
    {
     "data": {
      "application/vnd.jupyter.widget-view+json": {
       "model_id": "1233322f05884f10ae4e0ce541d1fa31",
       "version_major": 2,
       "version_minor": 0
      },
      "text/plain": [
       "VBox(children=(HBox(children=(Button(description='Start', style=ButtonStyle()), Button(description='Stop', sty…"
      ]
     },
     "execution_count": 17,
     "metadata": {},
     "output_type": "execute_result"
    }
   ],
   "source": [
    "sub = jr2.Subscriber(key_node, String, '/keyboard_stream', cb, print_incoming_msg=True)\n",
    "sub.display()"
   ]
  },
  {
   "cell_type": "code",
   "execution_count": null,
   "metadata": {},
   "outputs": [],
   "source": []
  }
 ],
 "metadata": {
  "kernelspec": {
   "display_name": "Python 3 (ipykernel)",
   "language": "python",
   "name": "python3"
  },
  "language_info": {
   "codemirror_mode": {
    "name": "ipython",
    "version": 3
   },
   "file_extension": ".py",
   "mimetype": "text/x-python",
   "name": "python",
   "nbconvert_exporter": "python",
   "pygments_lexer": "ipython3",
   "version": "3.8.10"
  }
 },
 "nbformat": 4,
 "nbformat_minor": 4
}
